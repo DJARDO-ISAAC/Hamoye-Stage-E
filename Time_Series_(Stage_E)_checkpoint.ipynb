{
  "cells": [
    {
      "cell_type": "markdown",
      "metadata": {
        "id": "view-in-github",
        "colab_type": "text"
      },
      "source": [
        "<a href=\"https://colab.research.google.com/github/DJARDO-ISAAC/Hamoye-Stage-E/blob/main/Time_Series_(Stage_E)_checkpoint.ipynb\" target=\"_parent\"><img src=\"https://colab.research.google.com/assets/colab-badge.svg\" alt=\"Open In Colab\"/></a>"
      ]
    },
    {
      "cell_type": "code",
      "execution_count": null,
      "id": "1573fb8b",
      "metadata": {
        "id": "1573fb8b",
        "outputId": "0d1c762a-3ce2-4451-bb8e-7f07af150e41"
      },
      "outputs": [
        {
          "data": {
            "text/html": [
              "<div>\n",
              "<style scoped>\n",
              "    .dataframe tbody tr th:only-of-type {\n",
              "        vertical-align: middle;\n",
              "    }\n",
              "\n",
              "    .dataframe tbody tr th {\n",
              "        vertical-align: top;\n",
              "    }\n",
              "\n",
              "    .dataframe thead th {\n",
              "        text-align: right;\n",
              "    }\n",
              "</style>\n",
              "<table border=\"1\" class=\"dataframe\">\n",
              "  <thead>\n",
              "    <tr style=\"text-align: right;\">\n",
              "      <th></th>\n",
              "      <th>FullDate</th>\n",
              "      <th>Tmax</th>\n",
              "      <th>SysLoad</th>\n",
              "      <th>GasPrice</th>\n",
              "      <th>ElecPrice</th>\n",
              "    </tr>\n",
              "  </thead>\n",
              "  <tbody>\n",
              "    <tr>\n",
              "      <th>0</th>\n",
              "      <td>2010-09-01 00:00:00</td>\n",
              "      <td>15.8</td>\n",
              "      <td>1688.215</td>\n",
              "      <td>3.69</td>\n",
              "      <td>23.710</td>\n",
              "    </tr>\n",
              "    <tr>\n",
              "      <th>1</th>\n",
              "      <td>2010-09-01 01:00:00</td>\n",
              "      <td>15.8</td>\n",
              "      <td>1669.195</td>\n",
              "      <td>3.69</td>\n",
              "      <td>22.635</td>\n",
              "    </tr>\n",
              "    <tr>\n",
              "      <th>2</th>\n",
              "      <td>2010-09-01 02:00:00</td>\n",
              "      <td>15.8</td>\n",
              "      <td>1491.980</td>\n",
              "      <td>3.69</td>\n",
              "      <td>22.565</td>\n",
              "    </tr>\n",
              "    <tr>\n",
              "      <th>3</th>\n",
              "      <td>2010-09-01 03:00:00</td>\n",
              "      <td>15.8</td>\n",
              "      <td>1330.760</td>\n",
              "      <td>3.69</td>\n",
              "      <td>18.910</td>\n",
              "    </tr>\n",
              "    <tr>\n",
              "      <th>4</th>\n",
              "      <td>2010-09-01 04:00:00</td>\n",
              "      <td>15.8</td>\n",
              "      <td>1247.940</td>\n",
              "      <td>3.69</td>\n",
              "      <td>18.030</td>\n",
              "    </tr>\n",
              "  </tbody>\n",
              "</table>\n",
              "</div>"
            ],
            "text/plain": [
              "              FullDate  Tmax   SysLoad  GasPrice  ElecPrice\n",
              "0  2010-09-01 00:00:00  15.8  1688.215      3.69     23.710\n",
              "1  2010-09-01 01:00:00  15.8  1669.195      3.69     22.635\n",
              "2  2010-09-01 02:00:00  15.8  1491.980      3.69     22.565\n",
              "3  2010-09-01 03:00:00  15.8  1330.760      3.69     18.910\n",
              "4  2010-09-01 04:00:00  15.8  1247.940      3.69     18.030"
            ]
          },
          "execution_count": 2,
          "metadata": {},
          "output_type": "execute_result"
        }
      ],
      "source": [
        "import pandas as pd\n",
        "import numpy as np\n",
        "\n",
        "\n",
        "df=pd.read_csv( \"C://Users//D-IKE//Desktop//HamoyeCODES//StageE//Time_series_analysis_and_forecast_DATASET.csv\" )\n",
        "df.head()"
      ]
    },
    {
      "cell_type": "code",
      "execution_count": null,
      "id": "ce88a115",
      "metadata": {
        "id": "ce88a115"
      },
      "outputs": [],
      "source": []
    },
    {
      "cell_type": "code",
      "execution_count": null,
      "id": "dbd2b968",
      "metadata": {
        "id": "dbd2b968",
        "outputId": "b32764b8-3b2b-4e00-dc32-1a5bd2da2234"
      },
      "outputs": [
        {
          "data": {
            "text/html": [
              "<div>\n",
              "<style scoped>\n",
              "    .dataframe tbody tr th:only-of-type {\n",
              "        vertical-align: middle;\n",
              "    }\n",
              "\n",
              "    .dataframe tbody tr th {\n",
              "        vertical-align: top;\n",
              "    }\n",
              "\n",
              "    .dataframe thead th {\n",
              "        text-align: right;\n",
              "    }\n",
              "</style>\n",
              "<table border=\"1\" class=\"dataframe\">\n",
              "  <thead>\n",
              "    <tr style=\"text-align: right;\">\n",
              "      <th></th>\n",
              "      <th>Tmax</th>\n",
              "      <th>SysLoad</th>\n",
              "      <th>GasPrice</th>\n",
              "      <th>ElecPrice</th>\n",
              "    </tr>\n",
              "    <tr>\n",
              "      <th>FullDate</th>\n",
              "      <th></th>\n",
              "      <th></th>\n",
              "      <th></th>\n",
              "      <th></th>\n",
              "    </tr>\n",
              "  </thead>\n",
              "  <tbody>\n",
              "    <tr>\n",
              "      <th>2010-09-01 00:00:00</th>\n",
              "      <td>15.8</td>\n",
              "      <td>1688.215</td>\n",
              "      <td>3.69</td>\n",
              "      <td>23.710</td>\n",
              "    </tr>\n",
              "    <tr>\n",
              "      <th>2010-09-01 01:00:00</th>\n",
              "      <td>15.8</td>\n",
              "      <td>1669.195</td>\n",
              "      <td>3.69</td>\n",
              "      <td>22.635</td>\n",
              "    </tr>\n",
              "    <tr>\n",
              "      <th>2010-09-01 02:00:00</th>\n",
              "      <td>15.8</td>\n",
              "      <td>1491.980</td>\n",
              "      <td>3.69</td>\n",
              "      <td>22.565</td>\n",
              "    </tr>\n",
              "    <tr>\n",
              "      <th>2010-09-01 03:00:00</th>\n",
              "      <td>15.8</td>\n",
              "      <td>1330.760</td>\n",
              "      <td>3.69</td>\n",
              "      <td>18.910</td>\n",
              "    </tr>\n",
              "    <tr>\n",
              "      <th>2010-09-01 04:00:00</th>\n",
              "      <td>15.8</td>\n",
              "      <td>1247.940</td>\n",
              "      <td>3.69</td>\n",
              "      <td>18.030</td>\n",
              "    </tr>\n",
              "  </tbody>\n",
              "</table>\n",
              "</div>"
            ],
            "text/plain": [
              "                     Tmax   SysLoad  GasPrice  ElecPrice\n",
              "FullDate                                                \n",
              "2010-09-01 00:00:00  15.8  1688.215      3.69     23.710\n",
              "2010-09-01 01:00:00  15.8  1669.195      3.69     22.635\n",
              "2010-09-01 02:00:00  15.8  1491.980      3.69     22.565\n",
              "2010-09-01 03:00:00  15.8  1330.760      3.69     18.910\n",
              "2010-09-01 04:00:00  15.8  1247.940      3.69     18.030"
            ]
          },
          "execution_count": 30,
          "metadata": {},
          "output_type": "execute_result"
        }
      ],
      "source": [
        "#Converting FullDate to datetime format,setting it as index\n",
        "df['FullDate'] = pd.to_datetime(df['FullDate'])\n",
        "df.set_index('FullDate', inplace = True)\n",
        "df.head()"
      ]
    },
    {
      "cell_type": "code",
      "execution_count": null,
      "id": "ddc2ea36",
      "metadata": {
        "id": "ddc2ea36",
        "outputId": "80560ab7-454b-4ba6-c9a6-8a72482d9ead"
      },
      "outputs": [
        {
          "data": {
            "text/plain": [
              "Tmax         0\n",
              "SysLoad      0\n",
              "GasPrice     0\n",
              "ElecPrice    0\n",
              "dtype: int64"
            ]
          },
          "execution_count": 31,
          "metadata": {},
          "output_type": "execute_result"
        }
      ],
      "source": [
        "#Checking values that are missing \n",
        "df.isnull().sum()"
      ]
    },
    {
      "cell_type": "code",
      "execution_count": null,
      "id": "0e6808e4",
      "metadata": {
        "id": "0e6808e4",
        "outputId": "4ec6a4bd-33fc-463d-bf26-3704c1d8d1df"
      },
      "outputs": [
        {
          "data": {
            "text/html": [
              "<div>\n",
              "<style scoped>\n",
              "    .dataframe tbody tr th:only-of-type {\n",
              "        vertical-align: middle;\n",
              "    }\n",
              "\n",
              "    .dataframe tbody tr th {\n",
              "        vertical-align: top;\n",
              "    }\n",
              "\n",
              "    .dataframe thead th {\n",
              "        text-align: right;\n",
              "    }\n",
              "</style>\n",
              "<table border=\"1\" class=\"dataframe\">\n",
              "  <thead>\n",
              "    <tr style=\"text-align: right;\">\n",
              "      <th></th>\n",
              "      <th>Tmax</th>\n",
              "      <th>SysLoad</th>\n",
              "      <th>GasPrice</th>\n",
              "      <th>ElecPrice</th>\n",
              "    </tr>\n",
              "  </thead>\n",
              "  <tbody>\n",
              "    <tr>\n",
              "      <th>count</th>\n",
              "      <td>92016.000000</td>\n",
              "      <td>92016.000000</td>\n",
              "      <td>92016.000000</td>\n",
              "      <td>92016.000000</td>\n",
              "    </tr>\n",
              "    <tr>\n",
              "      <th>mean</th>\n",
              "      <td>231.696688</td>\n",
              "      <td>797.623357</td>\n",
              "      <td>6.016163</td>\n",
              "      <td>65.798356</td>\n",
              "    </tr>\n",
              "    <tr>\n",
              "      <th>std</th>\n",
              "      <td>4562.128748</td>\n",
              "      <td>613.520156</td>\n",
              "      <td>2.608116</td>\n",
              "      <td>213.144084</td>\n",
              "    </tr>\n",
              "    <tr>\n",
              "      <th>min</th>\n",
              "      <td>9.900000</td>\n",
              "      <td>-1596.810100</td>\n",
              "      <td>0.000000</td>\n",
              "      <td>-924.820000</td>\n",
              "    </tr>\n",
              "    <tr>\n",
              "      <th>25%</th>\n",
              "      <td>17.300000</td>\n",
              "      <td>417.119800</td>\n",
              "      <td>3.936900</td>\n",
              "      <td>31.543750</td>\n",
              "    </tr>\n",
              "    <tr>\n",
              "      <th>50%</th>\n",
              "      <td>21.900000</td>\n",
              "      <td>856.467925</td>\n",
              "      <td>5.165600</td>\n",
              "      <td>48.715000</td>\n",
              "    </tr>\n",
              "    <tr>\n",
              "      <th>75%</th>\n",
              "      <td>27.600000</td>\n",
              "      <td>1221.293675</td>\n",
              "      <td>8.023300</td>\n",
              "      <td>76.495000</td>\n",
              "    </tr>\n",
              "    <tr>\n",
              "      <th>max</th>\n",
              "      <td>99999.900000</td>\n",
              "      <td>3264.166300</td>\n",
              "      <td>29.990000</td>\n",
              "      <td>14700.000000</td>\n",
              "    </tr>\n",
              "  </tbody>\n",
              "</table>\n",
              "</div>"
            ],
            "text/plain": [
              "               Tmax       SysLoad      GasPrice     ElecPrice\n",
              "count  92016.000000  92016.000000  92016.000000  92016.000000\n",
              "mean     231.696688    797.623357      6.016163     65.798356\n",
              "std     4562.128748    613.520156      2.608116    213.144084\n",
              "min        9.900000  -1596.810100      0.000000   -924.820000\n",
              "25%       17.300000    417.119800      3.936900     31.543750\n",
              "50%       21.900000    856.467925      5.165600     48.715000\n",
              "75%       27.600000   1221.293675      8.023300     76.495000\n",
              "max    99999.900000   3264.166300     29.990000  14700.000000"
            ]
          },
          "execution_count": 32,
          "metadata": {},
          "output_type": "execute_result"
        }
      ],
      "source": [
        "df.describe()"
      ]
    },
    {
      "cell_type": "code",
      "execution_count": null,
      "id": "559d0282",
      "metadata": {
        "id": "559d0282"
      },
      "outputs": [],
      "source": []
    },
    {
      "cell_type": "code",
      "execution_count": null,
      "id": "62656d2d",
      "metadata": {
        "id": "62656d2d",
        "outputId": "d2b0e3ca-7abe-4c1e-9fdc-7118dc18600c"
      },
      "outputs": [
        {
          "name": "stdout",
          "output_type": "stream",
          "text": [
            "<class 'pandas.core.frame.DataFrame'>\n",
            "DatetimeIndex: 1 entries, 1970-01-31 to 1970-01-31\n",
            "Freq: M\n",
            "Data columns (total 4 columns):\n",
            " #   Column     Non-Null Count  Dtype  \n",
            "---  ------     --------------  -----  \n",
            " 0   Tmax       1 non-null      float64\n",
            " 1   SysLoad    1 non-null      float64\n",
            " 2   GasPrice   1 non-null      float64\n",
            " 3   ElecPrice  1 non-null      float64\n",
            "dtypes: float64(4)\n",
            "memory usage: 40.0 bytes\n"
          ]
        }
      ],
      "source": [
        "#downsample data to daily data points\n",
        "df_daily = df.resample('M').mean()\n",
        "#df.index = pd.to_datetime(df.index)\n",
        "#df_daily.index = df.resample('D').sum()\n",
        "df_daily.head()\n",
        "df_daily.info()"
      ]
    },
    {
      "cell_type": "code",
      "execution_count": null,
      "id": "310000cb",
      "metadata": {
        "id": "310000cb",
        "outputId": "48410ba4-ccf1-4d0c-da5e-e4b621807173"
      },
      "outputs": [
        {
          "name": "stdout",
          "output_type": "stream",
          "text": [
            "ADF Statistic = -1.7019939817424\n",
            "p-value of SysLoad to 6 decimal places = 0.430085\n",
            "critical values are: \n",
            "1% : -3.485585145896754\n",
            "5% : -2.885738566292665\n",
            "10% : -2.5796759080663887\n"
          ]
        }
      ],
      "source": [
        "#Augmented Dickey-Fuller test for stationarity\n",
        "from statsmodels.tsa.stattools import adfuller\n",
        "result = adfuller(df_daily['GasPrice'])\n",
        "print(f'ADF Statistic = {result[0]}')\n",
        "print(f'p-value of SysLoad to 6 decimal places = {round(result[1], 6)}')\n",
        "print('critical values are: ')\n",
        "for k, v in result[4].items():\n",
        "    print(f'{k} : {v}')"
      ]
    },
    {
      "cell_type": "code",
      "execution_count": null,
      "id": "e050db65",
      "metadata": {
        "id": "e050db65"
      },
      "outputs": [],
      "source": []
    },
    {
      "cell_type": "code",
      "execution_count": null,
      "id": "cf26e464",
      "metadata": {
        "id": "cf26e464",
        "outputId": "335fd5de-a7af-4cd5-d2ce-32b41da61419"
      },
      "outputs": [
        {
          "name": "stdout",
          "output_type": "stream",
          "text": [
            "ADF Statistic = -3.8539708618723143\n",
            "p-value = 0.002401\n",
            "Number of lags used = 1\n",
            "Number of Observations = 124\n",
            "critical values are: \n",
            "1% : -3.484219653271961\n",
            "5% : -2.885145235641637\n",
            "10% : -2.579359138917794\n"
          ]
        }
      ],
      "source": [
        "result = adfuller(df_daily['ElecPrice'])\n",
        "print(f'ADF Statistic = {result[0]}')\n",
        "print(f'p-value = {round(result[1], 6)}')\n",
        "print(f'Number of lags used = {result[2]}')\n",
        "print(f'Number of Observations = {result[3]}')\n",
        "print('critical values are: ')\n",
        "for k, v in result[4].items():\n",
        "    print(f'{k} : {v}')"
      ]
    },
    {
      "cell_type": "code",
      "execution_count": null,
      "id": "8dfac833",
      "metadata": {
        "id": "8dfac833"
      },
      "outputs": [],
      "source": []
    },
    {
      "cell_type": "code",
      "execution_count": null,
      "id": "e6659ac6",
      "metadata": {
        "id": "e6659ac6",
        "outputId": "df0970ca-c003-48cb-b1da-d3c3deea5ffb"
      },
      "outputs": [
        {
          "data": {
            "text/html": [
              "<div>\n",
              "<style scoped>\n",
              "    .dataframe tbody tr th:only-of-type {\n",
              "        vertical-align: middle;\n",
              "    }\n",
              "\n",
              "    .dataframe tbody tr th {\n",
              "        vertical-align: top;\n",
              "    }\n",
              "\n",
              "    .dataframe thead th {\n",
              "        text-align: right;\n",
              "    }\n",
              "</style>\n",
              "<table border=\"1\" class=\"dataframe\">\n",
              "  <thead>\n",
              "    <tr style=\"text-align: right;\">\n",
              "      <th></th>\n",
              "      <th>ds</th>\n",
              "      <th>y</th>\n",
              "    </tr>\n",
              "  </thead>\n",
              "  <tbody>\n",
              "    <tr>\n",
              "      <th>0</th>\n",
              "      <td>2010-09-30</td>\n",
              "      <td>25.075896</td>\n",
              "    </tr>\n",
              "    <tr>\n",
              "      <th>1</th>\n",
              "      <td>2010-10-31</td>\n",
              "      <td>22.223629</td>\n",
              "    </tr>\n",
              "    <tr>\n",
              "      <th>2</th>\n",
              "      <td>2010-11-30</td>\n",
              "      <td>22.575944</td>\n",
              "    </tr>\n",
              "    <tr>\n",
              "      <th>3</th>\n",
              "      <td>2010-12-31</td>\n",
              "      <td>17.585753</td>\n",
              "    </tr>\n",
              "    <tr>\n",
              "      <th>4</th>\n",
              "      <td>2011-01-31</td>\n",
              "      <td>103.094603</td>\n",
              "    </tr>\n",
              "  </tbody>\n",
              "</table>\n",
              "</div>"
            ],
            "text/plain": [
              "          ds           y\n",
              "0 2010-09-30   25.075896\n",
              "1 2010-10-31   22.223629\n",
              "2 2010-11-30   22.575944\n",
              "3 2010-12-31   17.585753\n",
              "4 2011-01-31  103.094603"
            ]
          },
          "execution_count": 49,
          "metadata": {},
          "output_type": "execute_result"
        }
      ],
      "source": [
        "#Reset index and create a new data set\n",
        "df_daily_copy = df_daily.copy().reset_index()\n",
        "df_daily_copy = df_daily_copy[['FullDate', 'ElecPrice']].rename(columns = {'FullDate' : 'ds', 'ElecPrice' : 'y'})\n",
        "df_daily_copy.head()"
      ]
    },
    {
      "cell_type": "code",
      "execution_count": null,
      "id": "37e5a336",
      "metadata": {
        "id": "37e5a336"
      },
      "outputs": [],
      "source": []
    },
    {
      "cell_type": "code",
      "execution_count": null,
      "id": "46682869",
      "metadata": {
        "id": "46682869"
      },
      "outputs": [],
      "source": [
        "#Split dataset into train(first 2757) and test (x-2757), where x = length of dataset\n",
        "x_train, x_test = df_day_copy[:2757], df_day_copy[2757:]\n",
        "y_train, y_test = df_day_copy.y[:2757], df_day_copy.y[2757:]"
      ]
    },
    {
      "cell_type": "code",
      "execution_count": null,
      "id": "b1df63f9",
      "metadata": {
        "id": "b1df63f9"
      },
      "outputs": [],
      "source": []
    },
    {
      "cell_type": "code",
      "execution_count": null,
      "id": "02d4d044",
      "metadata": {
        "id": "02d4d044",
        "outputId": "381f52bd-1d31-4fcb-bde6-33ffd727348a"
      },
      "outputs": [
        {
          "name": "stderr",
          "output_type": "stream",
          "text": [
            "INFO:prophet:Disabling weekly seasonality. Run prophet with weekly_seasonality=True to override this.\n",
            "INFO:prophet:Disabling daily seasonality. Run prophet with daily_seasonality=True to override this.\n",
            "C:\\Users\\D-IKE\\anaconda3\\lib\\site-packages\\prophet\\forecaster.py:896: FutureWarning: The frame.append method is deprecated and will be removed from pandas in a future version. Use pandas.concat instead.\n",
            "  components = components.append(new_comp)\n"
          ]
        },
        {
          "data": {
            "text/plain": [
              "<prophet.forecaster.Prophet at 0x276d96a0070>"
            ]
          },
          "execution_count": 59,
          "metadata": {},
          "output_type": "execute_result"
        }
      ],
      "source": [
        "#Training model using the Facebook Prophet module\n",
        "from prophet import Prophet\n",
        "model = Prophet()\n",
        "model.fit(x_train)"
      ]
    },
    {
      "cell_type": "code",
      "execution_count": null,
      "id": "0c0de389",
      "metadata": {
        "id": "0c0de389"
      },
      "outputs": [],
      "source": []
    },
    {
      "cell_type": "code",
      "execution_count": null,
      "id": "e38cf40b",
      "metadata": {
        "id": "e38cf40b",
        "outputId": "bf10ce6a-6a66-4b42-f680-49fe39ace17a"
      },
      "outputs": [
        {
          "name": "stderr",
          "output_type": "stream",
          "text": [
            "C:\\Users\\D-IKE\\anaconda3\\lib\\site-packages\\prophet\\forecaster.py:896: FutureWarning: The frame.append method is deprecated and will be removed from pandas in a future version. Use pandas.concat instead.\n",
            "  components = components.append(new_comp)\n",
            "C:\\Users\\D-IKE\\anaconda3\\lib\\site-packages\\prophet\\forecaster.py:896: FutureWarning: The frame.append method is deprecated and will be removed from pandas in a future version. Use pandas.concat instead.\n",
            "  components = components.append(new_comp)\n"
          ]
        },
        {
          "data": {
            "text/html": [
              "<div>\n",
              "<style scoped>\n",
              "    .dataframe tbody tr th:only-of-type {\n",
              "        vertical-align: middle;\n",
              "    }\n",
              "\n",
              "    .dataframe tbody tr th {\n",
              "        vertical-align: top;\n",
              "    }\n",
              "\n",
              "    .dataframe thead th {\n",
              "        text-align: right;\n",
              "    }\n",
              "</style>\n",
              "<table border=\"1\" class=\"dataframe\">\n",
              "  <thead>\n",
              "    <tr style=\"text-align: right;\">\n",
              "      <th></th>\n",
              "      <th>ds</th>\n",
              "      <th>trend</th>\n",
              "      <th>yhat_lower</th>\n",
              "      <th>yhat_upper</th>\n",
              "      <th>trend_lower</th>\n",
              "      <th>trend_upper</th>\n",
              "      <th>additive_terms</th>\n",
              "      <th>additive_terms_lower</th>\n",
              "      <th>additive_terms_upper</th>\n",
              "      <th>yearly</th>\n",
              "      <th>yearly_lower</th>\n",
              "      <th>yearly_upper</th>\n",
              "      <th>multiplicative_terms</th>\n",
              "      <th>multiplicative_terms_lower</th>\n",
              "      <th>multiplicative_terms_upper</th>\n",
              "      <th>yhat</th>\n",
              "    </tr>\n",
              "  </thead>\n",
              "  <tbody>\n",
              "    <tr>\n",
              "      <th>0</th>\n",
              "      <td>2010-09-30</td>\n",
              "      <td>38.578462</td>\n",
              "      <td>-14.639261</td>\n",
              "      <td>66.049109</td>\n",
              "      <td>38.578462</td>\n",
              "      <td>38.578462</td>\n",
              "      <td>-10.432900</td>\n",
              "      <td>-10.432900</td>\n",
              "      <td>-10.432900</td>\n",
              "      <td>-10.432900</td>\n",
              "      <td>-10.432900</td>\n",
              "      <td>-10.432900</td>\n",
              "      <td>0.0</td>\n",
              "      <td>0.0</td>\n",
              "      <td>0.0</td>\n",
              "      <td>28.145561</td>\n",
              "    </tr>\n",
              "    <tr>\n",
              "      <th>1</th>\n",
              "      <td>2010-10-31</td>\n",
              "      <td>39.101208</td>\n",
              "      <td>-12.658878</td>\n",
              "      <td>68.660012</td>\n",
              "      <td>39.101208</td>\n",
              "      <td>39.101208</td>\n",
              "      <td>-12.536855</td>\n",
              "      <td>-12.536855</td>\n",
              "      <td>-12.536855</td>\n",
              "      <td>-12.536855</td>\n",
              "      <td>-12.536855</td>\n",
              "      <td>-12.536855</td>\n",
              "      <td>0.0</td>\n",
              "      <td>0.0</td>\n",
              "      <td>0.0</td>\n",
              "      <td>26.564352</td>\n",
              "    </tr>\n",
              "    <tr>\n",
              "      <th>2</th>\n",
              "      <td>2010-11-30</td>\n",
              "      <td>39.607091</td>\n",
              "      <td>-12.608631</td>\n",
              "      <td>69.009692</td>\n",
              "      <td>39.607091</td>\n",
              "      <td>39.607091</td>\n",
              "      <td>-11.714816</td>\n",
              "      <td>-11.714816</td>\n",
              "      <td>-11.714816</td>\n",
              "      <td>-11.714816</td>\n",
              "      <td>-11.714816</td>\n",
              "      <td>-11.714816</td>\n",
              "      <td>0.0</td>\n",
              "      <td>0.0</td>\n",
              "      <td>0.0</td>\n",
              "      <td>27.892275</td>\n",
              "    </tr>\n",
              "    <tr>\n",
              "      <th>3</th>\n",
              "      <td>2010-12-31</td>\n",
              "      <td>40.129837</td>\n",
              "      <td>-9.667673</td>\n",
              "      <td>73.034593</td>\n",
              "      <td>40.129837</td>\n",
              "      <td>40.129837</td>\n",
              "      <td>-6.774611</td>\n",
              "      <td>-6.774611</td>\n",
              "      <td>-6.774611</td>\n",
              "      <td>-6.774611</td>\n",
              "      <td>-6.774611</td>\n",
              "      <td>-6.774611</td>\n",
              "      <td>0.0</td>\n",
              "      <td>0.0</td>\n",
              "      <td>0.0</td>\n",
              "      <td>33.355226</td>\n",
              "    </tr>\n",
              "    <tr>\n",
              "      <th>4</th>\n",
              "      <td>2011-01-31</td>\n",
              "      <td>40.652583</td>\n",
              "      <td>20.736057</td>\n",
              "      <td>101.939426</td>\n",
              "      <td>40.652583</td>\n",
              "      <td>40.652583</td>\n",
              "      <td>21.249663</td>\n",
              "      <td>21.249663</td>\n",
              "      <td>21.249663</td>\n",
              "      <td>21.249663</td>\n",
              "      <td>21.249663</td>\n",
              "      <td>21.249663</td>\n",
              "      <td>0.0</td>\n",
              "      <td>0.0</td>\n",
              "      <td>0.0</td>\n",
              "      <td>61.902246</td>\n",
              "    </tr>\n",
              "  </tbody>\n",
              "</table>\n",
              "</div>"
            ],
            "text/plain": [
              "          ds      trend  yhat_lower  yhat_upper  trend_lower  trend_upper  \\\n",
              "0 2010-09-30  38.578462  -14.639261   66.049109    38.578462    38.578462   \n",
              "1 2010-10-31  39.101208  -12.658878   68.660012    39.101208    39.101208   \n",
              "2 2010-11-30  39.607091  -12.608631   69.009692    39.607091    39.607091   \n",
              "3 2010-12-31  40.129837   -9.667673   73.034593    40.129837    40.129837   \n",
              "4 2011-01-31  40.652583   20.736057  101.939426    40.652583    40.652583   \n",
              "\n",
              "   additive_terms  additive_terms_lower  additive_terms_upper     yearly  \\\n",
              "0      -10.432900            -10.432900            -10.432900 -10.432900   \n",
              "1      -12.536855            -12.536855            -12.536855 -12.536855   \n",
              "2      -11.714816            -11.714816            -11.714816 -11.714816   \n",
              "3       -6.774611             -6.774611             -6.774611  -6.774611   \n",
              "4       21.249663             21.249663             21.249663  21.249663   \n",
              "\n",
              "   yearly_lower  yearly_upper  multiplicative_terms  \\\n",
              "0    -10.432900    -10.432900                   0.0   \n",
              "1    -12.536855    -12.536855                   0.0   \n",
              "2    -11.714816    -11.714816                   0.0   \n",
              "3     -6.774611     -6.774611                   0.0   \n",
              "4     21.249663     21.249663                   0.0   \n",
              "\n",
              "   multiplicative_terms_lower  multiplicative_terms_upper       yhat  \n",
              "0                         0.0                         0.0  28.145561  \n",
              "1                         0.0                         0.0  26.564352  \n",
              "2                         0.0                         0.0  27.892275  \n",
              "3                         0.0                         0.0  33.355226  \n",
              "4                         0.0                         0.0  61.902246  "
            ]
          },
          "execution_count": 60,
          "metadata": {},
          "output_type": "execute_result"
        }
      ],
      "source": [
        "#Predicting using the length of test dataset\n",
        "future = model.make_future_dataframe(len(x_test), freq = 'D')\n",
        "forecast = model.predict(future)\n",
        "forecast.head()"
      ]
    },
    {
      "cell_type": "code",
      "execution_count": null,
      "id": "f7a325e2",
      "metadata": {
        "id": "f7a325e2"
      },
      "outputs": [],
      "source": []
    },
    {
      "cell_type": "code",
      "execution_count": null,
      "id": "2c14aa8a",
      "metadata": {
        "id": "2c14aa8a",
        "outputId": "47d6faec-338d-42c9-c0d5-534d0b11368a"
      },
      "outputs": [
        {
          "name": "stderr",
          "output_type": "stream",
          "text": [
            "C:\\Users\\D-IKE\\anaconda3\\lib\\site-packages\\prophet\\forecaster.py:896: FutureWarning: The frame.append method is deprecated and will be removed from pandas in a future version. Use pandas.concat instead.\n",
            "  components = components.append(new_comp)\n"
          ]
        },
        {
          "data": {
            "image/png": "[encoded data removed]",
            "text/plain": [
              "<Figure size 648x432 with 2 Axes>"
            ]
          },
          "execution_count": 61,
          "metadata": {},
          "output_type": "execute_result"
        },
        {
          "data": {
            "image/png": "[encoded data removed]",
            "text/plain": [
              "<Figure size 648x432 with 2 Axes>"
            ]
          },
          "metadata": {},
          "output_type": "display_data"
        }
      ],
      "source": [
        "model.plot_components(forecast)"
      ]
    },
    {
      "cell_type": "code",
      "execution_count": null,
      "id": "1cb788ad",
      "metadata": {
        "id": "1cb788ad",
        "outputId": "1881a242-9544-4d7b-807e-3cb0ceb12a67"
      },
      "outputs": [
        {
          "data": {
            "text/html": [
              "<div>\n",
              "<style scoped>\n",
              "    .dataframe tbody tr th:only-of-type {\n",
              "        vertical-align: middle;\n",
              "    }\n",
              "\n",
              "    .dataframe tbody tr th {\n",
              "        vertical-align: top;\n",
              "    }\n",
              "\n",
              "    .dataframe thead th {\n",
              "        text-align: right;\n",
              "    }\n",
              "</style>\n",
              "<table border=\"1\" class=\"dataframe\">\n",
              "  <thead>\n",
              "    <tr style=\"text-align: right;\">\n",
              "      <th></th>\n",
              "      <th>ds</th>\n",
              "      <th>add2</th>\n",
              "      <th>add1</th>\n",
              "      <th>add3</th>\n",
              "      <th>y</th>\n",
              "    </tr>\n",
              "  </thead>\n",
              "  <tbody>\n",
              "    <tr>\n",
              "      <th>0</th>\n",
              "      <td>2010-09-30</td>\n",
              "      <td>16.906667</td>\n",
              "      <td>1578.145819</td>\n",
              "      <td>3.578663</td>\n",
              "      <td>25.075896</td>\n",
              "    </tr>\n",
              "    <tr>\n",
              "      <th>1</th>\n",
              "      <td>2010-10-31</td>\n",
              "      <td>21.377419</td>\n",
              "      <td>1398.027708</td>\n",
              "      <td>2.799987</td>\n",
              "      <td>22.223629</td>\n",
              "    </tr>\n",
              "    <tr>\n",
              "      <th>2</th>\n",
              "      <td>2010-11-30</td>\n",
              "      <td>24.323333</td>\n",
              "      <td>1484.759104</td>\n",
              "      <td>2.321943</td>\n",
              "      <td>22.575944</td>\n",
              "    </tr>\n",
              "    <tr>\n",
              "      <th>3</th>\n",
              "      <td>2010-12-31</td>\n",
              "      <td>26.696774</td>\n",
              "      <td>1082.167586</td>\n",
              "      <td>2.401429</td>\n",
              "      <td>17.585753</td>\n",
              "    </tr>\n",
              "    <tr>\n",
              "      <th>4</th>\n",
              "      <td>2011-01-31</td>\n",
              "      <td>30.629032</td>\n",
              "      <td>1331.477822</td>\n",
              "      <td>2.917977</td>\n",
              "      <td>103.094603</td>\n",
              "    </tr>\n",
              "  </tbody>\n",
              "</table>\n",
              "</div>"
            ],
            "text/plain": [
              "          ds       add2         add1      add3           y\n",
              "0 2010-09-30  16.906667  1578.145819  3.578663   25.075896\n",
              "1 2010-10-31  21.377419  1398.027708  2.799987   22.223629\n",
              "2 2010-11-30  24.323333  1484.759104  2.321943   22.575944\n",
              "3 2010-12-31  26.696774  1082.167586  2.401429   17.585753\n",
              "4 2011-01-31  30.629032  1331.477822  2.917977  103.094603"
            ]
          },
          "execution_count": 63,
          "metadata": {},
          "output_type": "execute_result"
        }
      ],
      "source": [
        "#Second training of model using regressors \n",
        "df_reg = df_daily.copy().reset_index()\n",
        "df_reg = df_reg.rename(columns = {'FullDate' : 'ds', 'ElecPrice' : 'y', 'SysLoad' : 'add1', 'Tmax' : 'add2', 'GasPrice' : 'add3'})\n",
        "df_reg.head()"
      ]
    },
    {
      "cell_type": "code",
      "execution_count": null,
      "id": "10a713b5",
      "metadata": {
        "id": "10a713b5",
        "outputId": "13f77396-ef31-48c0-cb7f-401a0a9f6dda"
      },
      "outputs": [
        {
          "data": {
            "text/plain": [
              "ds      0\n",
              "add2    0\n",
              "add1    0\n",
              "add3    0\n",
              "y       0\n",
              "dtype: int64"
            ]
          },
          "execution_count": 64,
          "metadata": {},
          "output_type": "execute_result"
        }
      ],
      "source": [
        "#Split dataset as done previously\n",
        "df_reg_train, df_reg_test = df_reg[:2757], df_reg[2757:]\n",
        "df_reg_y_train, df_reg_y_test = df_reg.y[:2757], df_reg.y[2757:]\n",
        "df_reg_train.isnull().sum()"
      ]
    },
    {
      "cell_type": "code",
      "execution_count": null,
      "id": "fdbea796",
      "metadata": {
        "id": "fdbea796",
        "outputId": "832528f1-453b-4c9b-f3d8-fe65367a2c62"
      },
      "outputs": [
        {
          "name": "stderr",
          "output_type": "stream",
          "text": [
            "INFO:prophet:Disabling weekly seasonality. Run prophet with weekly_seasonality=True to override this.\n",
            "INFO:prophet:Disabling daily seasonality. Run prophet with daily_seasonality=True to override this.\n",
            "C:\\Users\\D-IKE\\anaconda3\\lib\\site-packages\\prophet\\forecaster.py:896: FutureWarning: The frame.append method is deprecated and will be removed from pandas in a future version. Use pandas.concat instead.\n",
            "  components = components.append(new_comp)\n"
          ]
        },
        {
          "data": {
            "text/plain": [
              "<prophet.forecaster.Prophet at 0x276db4dea90>"
            ]
          },
          "execution_count": 65,
          "metadata": {},
          "output_type": "execute_result"
        }
      ],
      "source": [
        "#Training model while adding the regressors into the dataset\n",
        "model_reg = Prophet()\n",
        "model_reg.add_regressor('add1')\n",
        "model_reg.add_regressor('add2')\n",
        "model_reg.add_regressor('add3')\n",
        "model_reg.fit(df_reg_train)"
      ]
    },
    {
      "cell_type": "code",
      "execution_count": null,
      "id": "132dcb8d",
      "metadata": {
        "id": "132dcb8d"
      },
      "outputs": [],
      "source": []
    },
    {
      "cell_type": "code",
      "execution_count": null,
      "id": "2a53d4ed",
      "metadata": {
        "id": "2a53d4ed",
        "outputId": "d257447f-bc99-4e4e-97b6-996ac8f4b956"
      },
      "outputs": [
        {
          "data": {
            "text/html": [
              "<div>\n",
              "<style scoped>\n",
              "    .dataframe tbody tr th:only-of-type {\n",
              "        vertical-align: middle;\n",
              "    }\n",
              "\n",
              "    .dataframe tbody tr th {\n",
              "        vertical-align: top;\n",
              "    }\n",
              "\n",
              "    .dataframe thead th {\n",
              "        text-align: right;\n",
              "    }\n",
              "</style>\n",
              "<table border=\"1\" class=\"dataframe\">\n",
              "  <thead>\n",
              "    <tr style=\"text-align: right;\">\n",
              "      <th></th>\n",
              "      <th>ds</th>\n",
              "      <th>add1</th>\n",
              "      <th>add2</th>\n",
              "      <th>add3</th>\n",
              "    </tr>\n",
              "  </thead>\n",
              "  <tbody>\n",
              "    <tr>\n",
              "      <th>0</th>\n",
              "      <td>2010-09-30</td>\n",
              "      <td>1578.145819</td>\n",
              "      <td>16.906667</td>\n",
              "      <td>3.578663</td>\n",
              "    </tr>\n",
              "    <tr>\n",
              "      <th>1</th>\n",
              "      <td>2010-10-31</td>\n",
              "      <td>1398.027708</td>\n",
              "      <td>21.377419</td>\n",
              "      <td>2.799987</td>\n",
              "    </tr>\n",
              "    <tr>\n",
              "      <th>2</th>\n",
              "      <td>2010-11-30</td>\n",
              "      <td>1484.759104</td>\n",
              "      <td>24.323333</td>\n",
              "      <td>2.321943</td>\n",
              "    </tr>\n",
              "    <tr>\n",
              "      <th>3</th>\n",
              "      <td>2010-12-31</td>\n",
              "      <td>1082.167586</td>\n",
              "      <td>26.696774</td>\n",
              "      <td>2.401429</td>\n",
              "    </tr>\n",
              "    <tr>\n",
              "      <th>4</th>\n",
              "      <td>2011-01-31</td>\n",
              "      <td>1331.477822</td>\n",
              "      <td>30.629032</td>\n",
              "      <td>2.917977</td>\n",
              "    </tr>\n",
              "    <tr>\n",
              "      <th>...</th>\n",
              "      <td>...</td>\n",
              "      <td>...</td>\n",
              "      <td>...</td>\n",
              "      <td>...</td>\n",
              "    </tr>\n",
              "    <tr>\n",
              "      <th>121</th>\n",
              "      <td>2020-10-31</td>\n",
              "      <td>123.116935</td>\n",
              "      <td>21.374194</td>\n",
              "      <td>5.571003</td>\n",
              "    </tr>\n",
              "    <tr>\n",
              "      <th>122</th>\n",
              "      <td>2020-11-30</td>\n",
              "      <td>20.694651</td>\n",
              "      <td>27.986667</td>\n",
              "      <td>6.032180</td>\n",
              "    </tr>\n",
              "    <tr>\n",
              "      <th>123</th>\n",
              "      <td>2020-12-31</td>\n",
              "      <td>-47.401751</td>\n",
              "      <td>25.525806</td>\n",
              "      <td>6.333106</td>\n",
              "    </tr>\n",
              "    <tr>\n",
              "      <th>124</th>\n",
              "      <td>2021-01-31</td>\n",
              "      <td>64.803990</td>\n",
              "      <td>27.896774</td>\n",
              "      <td>6.411629</td>\n",
              "    </tr>\n",
              "    <tr>\n",
              "      <th>125</th>\n",
              "      <td>2021-02-28</td>\n",
              "      <td>148.392790</td>\n",
              "      <td>26.285714</td>\n",
              "      <td>5.841382</td>\n",
              "    </tr>\n",
              "  </tbody>\n",
              "</table>\n",
              "<p>126 rows × 4 columns</p>\n",
              "</div>"
            ],
            "text/plain": [
              "            ds         add1       add2      add3\n",
              "0   2010-09-30  1578.145819  16.906667  3.578663\n",
              "1   2010-10-31  1398.027708  21.377419  2.799987\n",
              "2   2010-11-30  1484.759104  24.323333  2.321943\n",
              "3   2010-12-31  1082.167586  26.696774  2.401429\n",
              "4   2011-01-31  1331.477822  30.629032  2.917977\n",
              "..         ...          ...        ...       ...\n",
              "121 2020-10-31   123.116935  21.374194  5.571003\n",
              "122 2020-11-30    20.694651  27.986667  6.032180\n",
              "123 2020-12-31   -47.401751  25.525806  6.333106\n",
              "124 2021-01-31    64.803990  27.896774  6.411629\n",
              "125 2021-02-28   148.392790  26.285714  5.841382\n",
              "\n",
              "[126 rows x 4 columns]"
            ]
          },
          "execution_count": 66,
          "metadata": {},
          "output_type": "execute_result"
        }
      ],
      "source": [
        "future_reg = model_reg.make_future_dataframe(periods = len(df_reg_test), freq = 'D')\n",
        "future_reg['add1'] = df_reg_train['add1']\n",
        "future_reg['add2'] = df_reg_train['add2']\n",
        "future_reg['add3'] = df_reg_train['add3']\n",
        "future_reg"
      ]
    },
    {
      "cell_type": "code",
      "execution_count": null,
      "id": "c2c4c43e",
      "metadata": {
        "id": "c2c4c43e",
        "outputId": "c7762c61-9797-470f-e405-d78efeff1af8"
      },
      "outputs": [
        {
          "name": "stderr",
          "output_type": "stream",
          "text": [
            "C:\\Users\\D-IKE\\anaconda3\\lib\\site-packages\\prophet\\forecaster.py:896: FutureWarning: The frame.append method is deprecated and will be removed from pandas in a future version. Use pandas.concat instead.\n",
            "  components = components.append(new_comp)\n",
            "C:\\Users\\D-IKE\\anaconda3\\lib\\site-packages\\prophet\\forecaster.py:896: FutureWarning: The frame.append method is deprecated and will be removed from pandas in a future version. Use pandas.concat instead.\n",
            "  components = components.append(new_comp)\n",
            "C:\\Users\\D-IKE\\anaconda3\\lib\\site-packages\\prophet\\forecaster.py:896: FutureWarning: The frame.append method is deprecated and will be removed from pandas in a future version. Use pandas.concat instead.\n",
            "  components = components.append(new_comp)\n"
          ]
        },
        {
          "data": {
            "image/png": "[encoded data removed]",
            "text/plain": [
              "<Figure size 648x648 with 3 Axes>"
            ]
          },
          "execution_count": 67,
          "metadata": {},
          "output_type": "execute_result"
        },
        {
          "data": {
            "image/png": "[encoded data removed]",
            "text/plain": [
              "<Figure size 648x648 with 3 Axes>"
            ]
          },
          "metadata": {},
          "output_type": "display_data"
        }
      ],
      "source": [
        "forwardfill_future_reg = future_reg.fillna(method='ffill')\n",
        "forwardfill_forecast_reg = model_reg.predict(forwardfill_future_reg)\n",
        "model_reg.plot_components(forwardfill_forecast_reg)"
      ]
    },
    {
      "cell_type": "code",
      "execution_count": null,
      "id": "ba332cb1",
      "metadata": {
        "id": "ba332cb1"
      },
      "outputs": [],
      "source": []
    },
    {
      "cell_type": "code",
      "execution_count": null,
      "id": "c6d24992",
      "metadata": {
        "id": "c6d24992"
      },
      "outputs": [],
      "source": [
        "#Third model training with regressors SysLoad(add1) and GasPrice(add3)\n",
        "df_reg2 = df_daily.copy().reset_index()\n",
        "df_reg2 = df_reg2.rename(columns = {'FullDate' : 'ds', 'ElecPrice' : 'y', 'SysLoad' : 'add1', 'Tmax' : 'add2', 'GasPrice' : 'add3'})"
      ]
    },
    {
      "cell_type": "code",
      "execution_count": null,
      "id": "5b687060",
      "metadata": {
        "id": "5b687060"
      },
      "outputs": [],
      "source": [
        "#Splitting data into train and test\n",
        "df_reg2_train, df_reg2_test = df_reg2[:2757], df_reg2[2757:]\n",
        "df_reg2_train_y, df_reg2_test_y = df_reg.y[:2757], df_reg.y[2757:]"
      ]
    },
    {
      "cell_type": "code",
      "execution_count": null,
      "id": "dec071ac",
      "metadata": {
        "id": "dec071ac"
      },
      "outputs": [],
      "source": []
    },
    {
      "cell_type": "code",
      "execution_count": null,
      "id": "6ab27dad",
      "metadata": {
        "id": "6ab27dad",
        "outputId": "2f093366-a7e2-4b41-d43b-13999080cc8b"
      },
      "outputs": [
        {
          "name": "stderr",
          "output_type": "stream",
          "text": [
            "INFO:prophet:Disabling weekly seasonality. Run prophet with weekly_seasonality=True to override this.\n",
            "INFO:prophet:Disabling daily seasonality. Run prophet with daily_seasonality=True to override this.\n",
            "C:\\Users\\D-IKE\\anaconda3\\lib\\site-packages\\prophet\\forecaster.py:896: FutureWarning: The frame.append method is deprecated and will be removed from pandas in a future version. Use pandas.concat instead.\n",
            "  components = components.append(new_comp)\n",
            "C:\\Users\\D-IKE\\anaconda3\\lib\\site-packages\\prophet\\forecaster.py:896: FutureWarning: The frame.append method is deprecated and will be removed from pandas in a future version. Use pandas.concat instead.\n",
            "  components = components.append(new_comp)\n",
            "C:\\Users\\D-IKE\\anaconda3\\lib\\site-packages\\prophet\\forecaster.py:896: FutureWarning: The frame.append method is deprecated and will be removed from pandas in a future version. Use pandas.concat instead.\n",
            "  components = components.append(new_comp)\n"
          ]
        },
        {
          "data": {
            "text/html": [
              "<div>\n",
              "<style scoped>\n",
              "    .dataframe tbody tr th:only-of-type {\n",
              "        vertical-align: middle;\n",
              "    }\n",
              "\n",
              "    .dataframe tbody tr th {\n",
              "        vertical-align: top;\n",
              "    }\n",
              "\n",
              "    .dataframe thead th {\n",
              "        text-align: right;\n",
              "    }\n",
              "</style>\n",
              "<table border=\"1\" class=\"dataframe\">\n",
              "  <thead>\n",
              "    <tr style=\"text-align: right;\">\n",
              "      <th></th>\n",
              "      <th>ds</th>\n",
              "      <th>trend</th>\n",
              "      <th>yhat_lower</th>\n",
              "      <th>yhat_upper</th>\n",
              "      <th>trend_lower</th>\n",
              "      <th>trend_upper</th>\n",
              "      <th>add1</th>\n",
              "      <th>add1_lower</th>\n",
              "      <th>add1_upper</th>\n",
              "      <th>add3</th>\n",
              "      <th>...</th>\n",
              "      <th>extra_regressors_additive</th>\n",
              "      <th>extra_regressors_additive_lower</th>\n",
              "      <th>extra_regressors_additive_upper</th>\n",
              "      <th>yearly</th>\n",
              "      <th>yearly_lower</th>\n",
              "      <th>yearly_upper</th>\n",
              "      <th>multiplicative_terms</th>\n",
              "      <th>multiplicative_terms_lower</th>\n",
              "      <th>multiplicative_terms_upper</th>\n",
              "      <th>yhat</th>\n",
              "    </tr>\n",
              "  </thead>\n",
              "  <tbody>\n",
              "    <tr>\n",
              "      <th>0</th>\n",
              "      <td>2010-09-30</td>\n",
              "      <td>64.307588</td>\n",
              "      <td>28.693442</td>\n",
              "      <td>79.793201</td>\n",
              "      <td>64.307588</td>\n",
              "      <td>64.307588</td>\n",
              "      <td>28.036426</td>\n",
              "      <td>28.036426</td>\n",
              "      <td>28.036426</td>\n",
              "      <td>-36.664158</td>\n",
              "      <td>...</td>\n",
              "      <td>-8.627732</td>\n",
              "      <td>-8.627732</td>\n",
              "      <td>-8.627732</td>\n",
              "      <td>-1.446268</td>\n",
              "      <td>-1.446268</td>\n",
              "      <td>-1.446268</td>\n",
              "      <td>0.0</td>\n",
              "      <td>0.0</td>\n",
              "      <td>0.0</td>\n",
              "      <td>54.233588</td>\n",
              "    </tr>\n",
              "    <tr>\n",
              "      <th>1</th>\n",
              "      <td>2010-10-31</td>\n",
              "      <td>64.405406</td>\n",
              "      <td>13.637123</td>\n",
              "      <td>64.519168</td>\n",
              "      <td>64.405406</td>\n",
              "      <td>64.405406</td>\n",
              "      <td>21.561111</td>\n",
              "      <td>21.561111</td>\n",
              "      <td>21.561111</td>\n",
              "      <td>-48.378178</td>\n",
              "      <td>...</td>\n",
              "      <td>-26.817067</td>\n",
              "      <td>-26.817067</td>\n",
              "      <td>-26.817067</td>\n",
              "      <td>1.401038</td>\n",
              "      <td>1.401038</td>\n",
              "      <td>1.401038</td>\n",
              "      <td>0.0</td>\n",
              "      <td>0.0</td>\n",
              "      <td>0.0</td>\n",
              "      <td>38.989377</td>\n",
              "    </tr>\n",
              "    <tr>\n",
              "      <th>2</th>\n",
              "      <td>2010-11-30</td>\n",
              "      <td>64.500068</td>\n",
              "      <td>8.041249</td>\n",
              "      <td>57.089213</td>\n",
              "      <td>64.500068</td>\n",
              "      <td>64.500068</td>\n",
              "      <td>24.679138</td>\n",
              "      <td>24.679138</td>\n",
              "      <td>24.679138</td>\n",
              "      <td>-55.569632</td>\n",
              "      <td>...</td>\n",
              "      <td>-30.890494</td>\n",
              "      <td>-30.890494</td>\n",
              "      <td>-30.890494</td>\n",
              "      <td>-1.804491</td>\n",
              "      <td>-1.804491</td>\n",
              "      <td>-1.804491</td>\n",
              "      <td>0.0</td>\n",
              "      <td>0.0</td>\n",
              "      <td>0.0</td>\n",
              "      <td>31.805084</td>\n",
              "    </tr>\n",
              "    <tr>\n",
              "      <th>3</th>\n",
              "      <td>2010-12-31</td>\n",
              "      <td>64.597887</td>\n",
              "      <td>-6.507970</td>\n",
              "      <td>41.953755</td>\n",
              "      <td>64.597887</td>\n",
              "      <td>64.597887</td>\n",
              "      <td>10.205818</td>\n",
              "      <td>10.205818</td>\n",
              "      <td>10.205818</td>\n",
              "      <td>-54.373888</td>\n",
              "      <td>...</td>\n",
              "      <td>-44.168070</td>\n",
              "      <td>-44.168070</td>\n",
              "      <td>-44.168070</td>\n",
              "      <td>-3.302003</td>\n",
              "      <td>-3.302003</td>\n",
              "      <td>-3.302003</td>\n",
              "      <td>0.0</td>\n",
              "      <td>0.0</td>\n",
              "      <td>0.0</td>\n",
              "      <td>17.127813</td>\n",
              "    </tr>\n",
              "    <tr>\n",
              "      <th>4</th>\n",
              "      <td>2011-01-31</td>\n",
              "      <td>64.695705</td>\n",
              "      <td>33.979814</td>\n",
              "      <td>85.058454</td>\n",
              "      <td>64.695705</td>\n",
              "      <td>64.695705</td>\n",
              "      <td>19.168617</td>\n",
              "      <td>19.168617</td>\n",
              "      <td>19.168617</td>\n",
              "      <td>-46.603190</td>\n",
              "      <td>...</td>\n",
              "      <td>-27.434573</td>\n",
              "      <td>-27.434573</td>\n",
              "      <td>-27.434573</td>\n",
              "      <td>22.402532</td>\n",
              "      <td>22.402532</td>\n",
              "      <td>22.402532</td>\n",
              "      <td>0.0</td>\n",
              "      <td>0.0</td>\n",
              "      <td>0.0</td>\n",
              "      <td>59.663664</td>\n",
              "    </tr>\n",
              "    <tr>\n",
              "      <th>...</th>\n",
              "      <td>...</td>\n",
              "      <td>...</td>\n",
              "      <td>...</td>\n",
              "      <td>...</td>\n",
              "      <td>...</td>\n",
              "      <td>...</td>\n",
              "      <td>...</td>\n",
              "      <td>...</td>\n",
              "      <td>...</td>\n",
              "      <td>...</td>\n",
              "      <td>...</td>\n",
              "      <td>...</td>\n",
              "      <td>...</td>\n",
              "      <td>...</td>\n",
              "      <td>...</td>\n",
              "      <td>...</td>\n",
              "      <td>...</td>\n",
              "      <td>...</td>\n",
              "      <td>...</td>\n",
              "      <td>...</td>\n",
              "      <td>...</td>\n",
              "    </tr>\n",
              "    <tr>\n",
              "      <th>121</th>\n",
              "      <td>2020-10-31</td>\n",
              "      <td>61.749949</td>\n",
              "      <td>7.517177</td>\n",
              "      <td>58.671294</td>\n",
              "      <td>61.749949</td>\n",
              "      <td>61.749949</td>\n",
              "      <td>-24.272423</td>\n",
              "      <td>-24.272423</td>\n",
              "      <td>-24.272423</td>\n",
              "      <td>-6.692383</td>\n",
              "      <td>...</td>\n",
              "      <td>-30.964805</td>\n",
              "      <td>-30.964805</td>\n",
              "      <td>-30.964805</td>\n",
              "      <td>1.517971</td>\n",
              "      <td>1.517971</td>\n",
              "      <td>1.517971</td>\n",
              "      <td>0.0</td>\n",
              "      <td>0.0</td>\n",
              "      <td>0.0</td>\n",
              "      <td>32.303114</td>\n",
              "    </tr>\n",
              "    <tr>\n",
              "      <th>122</th>\n",
              "      <td>2020-11-30</td>\n",
              "      <td>61.654100</td>\n",
              "      <td>6.006151</td>\n",
              "      <td>58.465295</td>\n",
              "      <td>61.654100</td>\n",
              "      <td>61.654100</td>\n",
              "      <td>-27.954543</td>\n",
              "      <td>-27.954543</td>\n",
              "      <td>-27.954543</td>\n",
              "      <td>0.245333</td>\n",
              "      <td>...</td>\n",
              "      <td>-27.709211</td>\n",
              "      <td>-27.709211</td>\n",
              "      <td>-27.709211</td>\n",
              "      <td>-1.594517</td>\n",
              "      <td>-1.594517</td>\n",
              "      <td>-1.594517</td>\n",
              "      <td>0.0</td>\n",
              "      <td>0.0</td>\n",
              "      <td>0.0</td>\n",
              "      <td>32.350373</td>\n",
              "    </tr>\n",
              "    <tr>\n",
              "      <th>123</th>\n",
              "      <td>2020-12-31</td>\n",
              "      <td>61.555057</td>\n",
              "      <td>6.257386</td>\n",
              "      <td>57.717355</td>\n",
              "      <td>61.555057</td>\n",
              "      <td>61.555057</td>\n",
              "      <td>-30.402635</td>\n",
              "      <td>-30.402635</td>\n",
              "      <td>-30.402635</td>\n",
              "      <td>4.772321</td>\n",
              "      <td>...</td>\n",
              "      <td>-25.630314</td>\n",
              "      <td>-25.630314</td>\n",
              "      <td>-25.630314</td>\n",
              "      <td>-3.512842</td>\n",
              "      <td>-3.512842</td>\n",
              "      <td>-3.512842</td>\n",
              "      <td>0.0</td>\n",
              "      <td>0.0</td>\n",
              "      <td>0.0</td>\n",
              "      <td>32.411901</td>\n",
              "    </tr>\n",
              "    <tr>\n",
              "      <th>124</th>\n",
              "      <td>2021-01-31</td>\n",
              "      <td>61.456014</td>\n",
              "      <td>39.643627</td>\n",
              "      <td>86.941355</td>\n",
              "      <td>61.456014</td>\n",
              "      <td>61.456014</td>\n",
              "      <td>-26.368796</td>\n",
              "      <td>-26.368796</td>\n",
              "      <td>-26.368796</td>\n",
              "      <td>5.953576</td>\n",
              "      <td>...</td>\n",
              "      <td>-20.415220</td>\n",
              "      <td>-20.415220</td>\n",
              "      <td>-20.415220</td>\n",
              "      <td>22.319888</td>\n",
              "      <td>22.319888</td>\n",
              "      <td>22.319888</td>\n",
              "      <td>0.0</td>\n",
              "      <td>0.0</td>\n",
              "      <td>0.0</td>\n",
              "      <td>63.360683</td>\n",
              "    </tr>\n",
              "    <tr>\n",
              "      <th>125</th>\n",
              "      <td>2021-02-28</td>\n",
              "      <td>61.366556</td>\n",
              "      <td>8.133982</td>\n",
              "      <td>58.657724</td>\n",
              "      <td>61.366556</td>\n",
              "      <td>61.366556</td>\n",
              "      <td>-23.363746</td>\n",
              "      <td>-23.363746</td>\n",
              "      <td>-23.363746</td>\n",
              "      <td>-2.624936</td>\n",
              "      <td>...</td>\n",
              "      <td>-25.988682</td>\n",
              "      <td>-25.988682</td>\n",
              "      <td>-25.988682</td>\n",
              "      <td>-2.166356</td>\n",
              "      <td>-2.166356</td>\n",
              "      <td>-2.166356</td>\n",
              "      <td>0.0</td>\n",
              "      <td>0.0</td>\n",
              "      <td>0.0</td>\n",
              "      <td>33.211518</td>\n",
              "    </tr>\n",
              "  </tbody>\n",
              "</table>\n",
              "<p>126 rows × 25 columns</p>\n",
              "</div>"
            ],
            "text/plain": [
              "            ds      trend  yhat_lower  yhat_upper  trend_lower  trend_upper  \\\n",
              "0   2010-09-30  64.307588   28.693442   79.793201    64.307588    64.307588   \n",
              "1   2010-10-31  64.405406   13.637123   64.519168    64.405406    64.405406   \n",
              "2   2010-11-30  64.500068    8.041249   57.089213    64.500068    64.500068   \n",
              "3   2010-12-31  64.597887   -6.507970   41.953755    64.597887    64.597887   \n",
              "4   2011-01-31  64.695705   33.979814   85.058454    64.695705    64.695705   \n",
              "..         ...        ...         ...         ...          ...          ...   \n",
              "121 2020-10-31  61.749949    7.517177   58.671294    61.749949    61.749949   \n",
              "122 2020-11-30  61.654100    6.006151   58.465295    61.654100    61.654100   \n",
              "123 2020-12-31  61.555057    6.257386   57.717355    61.555057    61.555057   \n",
              "124 2021-01-31  61.456014   39.643627   86.941355    61.456014    61.456014   \n",
              "125 2021-02-28  61.366556    8.133982   58.657724    61.366556    61.366556   \n",
              "\n",
              "          add1  add1_lower  add1_upper       add3  ...  \\\n",
              "0    28.036426   28.036426   28.036426 -36.664158  ...   \n",
              "1    21.561111   21.561111   21.561111 -48.378178  ...   \n",
              "2    24.679138   24.679138   24.679138 -55.569632  ...   \n",
              "3    10.205818   10.205818   10.205818 -54.373888  ...   \n",
              "4    19.168617   19.168617   19.168617 -46.603190  ...   \n",
              "..         ...         ...         ...        ...  ...   \n",
              "121 -24.272423  -24.272423  -24.272423  -6.692383  ...   \n",
              "122 -27.954543  -27.954543  -27.954543   0.245333  ...   \n",
              "123 -30.402635  -30.402635  -30.402635   4.772321  ...   \n",
              "124 -26.368796  -26.368796  -26.368796   5.953576  ...   \n",
              "125 -23.363746  -23.363746  -23.363746  -2.624936  ...   \n",
              "\n",
              "     extra_regressors_additive  extra_regressors_additive_lower  \\\n",
              "0                    -8.627732                        -8.627732   \n",
              "1                   -26.817067                       -26.817067   \n",
              "2                   -30.890494                       -30.890494   \n",
              "3                   -44.168070                       -44.168070   \n",
              "4                   -27.434573                       -27.434573   \n",
              "..                         ...                              ...   \n",
              "121                 -30.964805                       -30.964805   \n",
              "122                 -27.709211                       -27.709211   \n",
              "123                 -25.630314                       -25.630314   \n",
              "124                 -20.415220                       -20.415220   \n",
              "125                 -25.988682                       -25.988682   \n",
              "\n",
              "     extra_regressors_additive_upper     yearly  yearly_lower  yearly_upper  \\\n",
              "0                          -8.627732  -1.446268     -1.446268     -1.446268   \n",
              "1                         -26.817067   1.401038      1.401038      1.401038   \n",
              "2                         -30.890494  -1.804491     -1.804491     -1.804491   \n",
              "3                         -44.168070  -3.302003     -3.302003     -3.302003   \n",
              "4                         -27.434573  22.402532     22.402532     22.402532   \n",
              "..                               ...        ...           ...           ...   \n",
              "121                       -30.964805   1.517971      1.517971      1.517971   \n",
              "122                       -27.709211  -1.594517     -1.594517     -1.594517   \n",
              "123                       -25.630314  -3.512842     -3.512842     -3.512842   \n",
              "124                       -20.415220  22.319888     22.319888     22.319888   \n",
              "125                       -25.988682  -2.166356     -2.166356     -2.166356   \n",
              "\n",
              "     multiplicative_terms  multiplicative_terms_lower  \\\n",
              "0                     0.0                         0.0   \n",
              "1                     0.0                         0.0   \n",
              "2                     0.0                         0.0   \n",
              "3                     0.0                         0.0   \n",
              "4                     0.0                         0.0   \n",
              "..                    ...                         ...   \n",
              "121                   0.0                         0.0   \n",
              "122                   0.0                         0.0   \n",
              "123                   0.0                         0.0   \n",
              "124                   0.0                         0.0   \n",
              "125                   0.0                         0.0   \n",
              "\n",
              "     multiplicative_terms_upper       yhat  \n",
              "0                           0.0  54.233588  \n",
              "1                           0.0  38.989377  \n",
              "2                           0.0  31.805084  \n",
              "3                           0.0  17.127813  \n",
              "4                           0.0  59.663664  \n",
              "..                          ...        ...  \n",
              "121                         0.0  32.303114  \n",
              "122                         0.0  32.350373  \n",
              "123                         0.0  32.411901  \n",
              "124                         0.0  63.360683  \n",
              "125                         0.0  33.211518  \n",
              "\n",
              "[126 rows x 25 columns]"
            ]
          },
          "execution_count": 71,
          "metadata": {},
          "output_type": "execute_result"
        }
      ],
      "source": [
        "#Training using Prophet and adding the two regressors\n",
        "model_reg2 = Prophet()\n",
        "model_reg2.add_regressor('add1')\n",
        "model_reg2.add_regressor('add3')\n",
        "model_reg2.fit(df_reg2_train)\n",
        "future_reg2 = model_reg2.make_future_dataframe(len(df_reg_test), freq = 'D')\n",
        "future_reg2['add1'] = df_reg2_train['add1']\n",
        "future_reg2['add3'] = df_reg2_train['add3']\n",
        "future_reg2 = future_reg2.fillna(method='ffill')\n",
        "#Predict for the next 12 months\n",
        "forecast_reg2 = model_reg2.predict(future_reg2)\n",
        "forecast_reg2"
      ]
    },
    {
      "cell_type": "code",
      "execution_count": null,
      "id": "020c289f",
      "metadata": {
        "id": "020c289f",
        "outputId": "b26f3eee-31a4-4212-88df-8893e8a6b9b1"
      },
      "outputs": [
        {
          "data": {
            "text/plain": [
              "43.92713110156283"
            ]
          },
          "execution_count": 72,
          "metadata": {},
          "output_type": "execute_result"
        }
      ],
      "source": [
        "#Measuring model without regressor performance using MAPE, RMSE\n",
        "import numpy as np\n",
        "def mape(actual, predicted):\n",
        "  actual, predicted = np.array(actual), np.array(predicted)\n",
        "  return np.mean(np.abs((actual - predicted) / actual)) * 100\n",
        "actual = y_train\n",
        "predicted = forecast['yhat'][:2757]\n",
        "mape(actual, predicted)"
      ]
    },
    {
      "cell_type": "code",
      "execution_count": null,
      "id": "2639dba0",
      "metadata": {
        "id": "2639dba0"
      },
      "outputs": [],
      "source": []
    },
    {
      "cell_type": "code",
      "execution_count": null,
      "id": "2618fb4c",
      "metadata": {
        "id": "2618fb4c",
        "outputId": "3db91dc7-e169-49aa-c361-fc53918c12bc"
      },
      "outputs": [
        {
          "name": "stdout",
          "output_type": "stream",
          "text": [
            "31.11975456656623\n"
          ]
        }
      ],
      "source": [
        "import sklearn\n",
        "from sklearn.metrics import mean_squared_error\n",
        "import math\n",
        "from math import sqrt\n",
        "\n",
        "actual = y_train\n",
        "predicted = forecast['yhat'][:2757]\n",
        "\n",
        "mse = sklearn.metrics.mean_squared_error(actual, predicted)\n",
        "\n",
        "rmse = math.sqrt(mse)\n",
        "\n",
        "print(rmse)"
      ]
    },
    {
      "cell_type": "code",
      "execution_count": null,
      "id": "ebdc882b",
      "metadata": {
        "id": "ebdc882b"
      },
      "outputs": [],
      "source": []
    },
    {
      "cell_type": "code",
      "execution_count": null,
      "id": "7ad20dbb",
      "metadata": {
        "id": "7ad20dbb",
        "outputId": "9e3e75c6-6b23-4e36-fc41-b947b751301d"
      },
      "outputs": [
        {
          "data": {
            "text/plain": [
              "25.685391562942872"
            ]
          },
          "execution_count": 74,
          "metadata": {},
          "output_type": "execute_result"
        }
      ],
      "source": [
        "#Measuring regressor model using MAPE and RMSE\n",
        "def mape(actual, pred):\n",
        "  actual, pred = np.array(actual), np.array(pred)\n",
        "  return np.mean(np.abs((actual - pred) / actual)) * 100\n",
        "actual_reg = df_reg_y_train\n",
        "pred_reg = forwardfill_forecast_reg['yhat'][:2757]\n",
        "mape(actual_reg, pred_reg)"
      ]
    },
    {
      "cell_type": "code",
      "execution_count": null,
      "id": "42658649",
      "metadata": {
        "id": "42658649"
      },
      "outputs": [],
      "source": []
    },
    {
      "cell_type": "code",
      "execution_count": null,
      "id": "bf6b81c7",
      "metadata": {
        "id": "bf6b81c7",
        "outputId": "094ef759-83ba-4894-a64b-cebf1725e10c"
      },
      "outputs": [
        {
          "name": "stdout",
          "output_type": "stream",
          "text": [
            "19.838656251201485\n"
          ]
        }
      ],
      "source": [
        "actual_reg = y_train\n",
        "predicted_reg = forwardfill_forecast_reg['yhat'][:2757]\n",
        "\n",
        "mse = sklearn.metrics.mean_squared_error(actual_reg, pred_reg)\n",
        "\n",
        "rmse = math.sqrt(mse)\n",
        "\n",
        "print(rmse)"
      ]
    },
    {
      "cell_type": "code",
      "execution_count": null,
      "id": "07cd9cc4",
      "metadata": {
        "id": "07cd9cc4"
      },
      "outputs": [],
      "source": []
    },
    {
      "cell_type": "code",
      "execution_count": null,
      "id": "56274638",
      "metadata": {
        "id": "56274638",
        "outputId": "c6fd901c-7040-4507-b554-f541f48421a8"
      },
      "outputs": [
        {
          "data": {
            "text/plain": [
              "25.641790089799272"
            ]
          },
          "execution_count": 76,
          "metadata": {},
          "output_type": "execute_result"
        }
      ],
      "source": [
        "#Measuring performance of Model without Tmax\n",
        "def mape(actual, pred):\n",
        "  actual, pred = np.array(actual), np.array(pred)\n",
        "  return np.mean(np.abs((actual - pred) / actual)) * 100\n",
        "actual_reg2 = df_reg2_train_y\n",
        "pred_reg2 = forecast_reg2['yhat'][:2757]\n",
        "mape(actual_reg2, pred_reg2)"
      ]
    },
    {
      "cell_type": "code",
      "execution_count": null,
      "id": "9a0b5ac8",
      "metadata": {
        "id": "9a0b5ac8"
      },
      "outputs": [],
      "source": []
    },
    {
      "cell_type": "code",
      "execution_count": null,
      "id": "006771e2",
      "metadata": {
        "id": "006771e2",
        "outputId": "c55b0007-e291-427d-985f-160d2179afde"
      },
      "outputs": [
        {
          "name": "stdout",
          "output_type": "stream",
          "text": [
            "19.862148853154025\n"
          ]
        }
      ],
      "source": [
        "actual_reg2 = df_reg2_train_y\n",
        "pred_reg2 = forecast_reg2['yhat'][:2757]\n",
        "\n",
        "mse = sklearn.metrics.mean_squared_error(actual_reg2, pred_reg2)\n",
        "\n",
        "rmse = math.sqrt(mse)\n",
        "\n",
        "print(rmse)"
      ]
    },
    {
      "cell_type": "code",
      "execution_count": null,
      "id": "682ca981",
      "metadata": {
        "id": "682ca981"
      },
      "outputs": [],
      "source": []
    },
    {
      "cell_type": "code",
      "execution_count": null,
      "id": "da27c466",
      "metadata": {
        "id": "da27c466"
      },
      "outputs": [],
      "source": []
    },
    {
      "cell_type": "code",
      "execution_count": null,
      "id": "e4974bb0",
      "metadata": {
        "id": "e4974bb0"
      },
      "outputs": [],
      "source": []
    }
  ],
  "metadata": {
    "kernelspec": {
      "display_name": "Python 3 (ipykernel)",
      "language": "python",
      "name": "python3"
    },
    "language_info": {
      "codemirror_mode": {
        "name": "ipython",
        "version": 3
      },
      "file_extension": ".py",
      "mimetype": "text/x-python",
      "name": "python",
      "nbconvert_exporter": "python",
      "pygments_lexer": "ipython3",
      "version": "3.9.12"
    },
    "colab": {
      "provenance": [],
      "collapsed_sections": [],
      "include_colab_link": true
    }
  },
  "nbformat": 4,
  "nbformat_minor": 5
}